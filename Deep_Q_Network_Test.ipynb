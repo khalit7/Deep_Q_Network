{
  "nbformat": 4,
  "nbformat_minor": 0,
  "metadata": {
    "colab": {
      "name": "Deep_Q_Network_Test.ipynb",
      "provenance": [],
      "collapsed_sections": [],
      "mount_file_id": "1qNhrSqnyXJKX38_H7hq7g5CG0-mHE5CI",
      "authorship_tag": "ABX9TyMw2mbDOtIYs7CwAsZ/Nvat",
      "include_colab_link": true
    },
    "kernelspec": {
      "name": "python3",
      "display_name": "Python 3"
    },
    "language_info": {
      "name": "python"
    },
    "accelerator": "GPU"
  },
  "cells": [
    {
      "cell_type": "markdown",
      "metadata": {
        "id": "view-in-github",
        "colab_type": "text"
      },
      "source": [
        "<a href=\"https://colab.research.google.com/github/khalit7/Deep_Q_Network/blob/main/Deep_Q_Network_Test.ipynb\" target=\"_parent\"><img src=\"https://colab.research.google.com/assets/colab-badge.svg\" alt=\"Open In Colab\"/></a>"
      ]
    },
    {
      "cell_type": "code",
      "source": [
        "from baselines.common.atari_wrappers import make_atari , wrap_deepmind\n",
        "import numpy as np\n",
        "import tensorflow as tf\n",
        "from tensorflow import keras\n",
        "import gym"
      ],
      "metadata": {
        "id": "RCAQSC2clgMo"
      },
      "execution_count": 8,
      "outputs": []
    },
    {
      "cell_type": "code",
      "source": [
        "seed = 42\n",
        "\n",
        "model = keras.models.load_model('/content/drive/MyDrive/game_ai/checkpoint/model_8.h5')\n",
        "env = make_atari(\"BreakoutNoFrameskip-v4\")\n",
        "env = wrap_deepmind(env,frame_stack=True,scale=True)\n",
        "env.seed(seed)\n",
        "\n",
        "env = gym.wrappers.Monitor(env,'/content/drive/MyDrive/game_ai/videos',video_callable = lambda episode_id:True,force=True)\n",
        "n_episodes=10\n",
        "returns=[]\n",
        "\n",
        "for _ in range(n_episodes):\n",
        "  ret = 0\n",
        "\n",
        "  state = np.array(env.reset())\n",
        "\n",
        "  done = False\n",
        "  while not done:\n",
        "\n",
        "    state_tensor = tf.convert_to_tensor(state)\n",
        "    state_tensor = tf.expand_dims(state_tensor, 0)\n",
        "    # predict quality of action using the trained model\n",
        "    action_probs = model(state_tensor, training=False)\n",
        "    # select the best action\n",
        "    action = tf.argmax(action_probs[0]).numpy()\n",
        "\n",
        "    #apply selected action to the enviroment\n",
        "    state_next, reward, done, _ = env.step(action)\n",
        "    state_next = np.array(state_next)\n",
        "    state = state_next\n",
        "    ret += reward\n",
        "\n",
        "\n",
        "  returns.append(ret)\n",
        "\n",
        "env.close()\n",
        "print(\"Returns: {}\".format(returns))\n"
      ],
      "metadata": {
        "colab": {
          "base_uri": "https://localhost:8080/"
        },
        "id": "9kH70uUgmRs2",
        "outputId": "a3582b35-1c10-44a5-cd1b-1917bf51802c"
      },
      "execution_count": 23,
      "outputs": [
        {
          "output_type": "stream",
          "name": "stdout",
          "text": [
            "Returns: [35.0, 6.0, 13.0, 0.0, 0.0, 18.0, 17.0, 12.0, 4.0, 6.0]\n"
          ]
        }
      ]
    },
    {
      "cell_type": "code",
      "source": [
        "print(np.mean(returns))"
      ],
      "metadata": {
        "colab": {
          "base_uri": "https://localhost:8080/"
        },
        "id": "A7RZ_aujq3OY",
        "outputId": "9b2828db-d8dd-4a3d-f1b3-060f97725534"
      },
      "execution_count": 24,
      "outputs": [
        {
          "output_type": "stream",
          "name": "stdout",
          "text": [
            "11.1\n"
          ]
        }
      ]
    }
  ]
}